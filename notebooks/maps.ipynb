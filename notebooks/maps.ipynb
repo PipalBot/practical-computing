{
 "cells": [
  {
   "cell_type": "markdown",
   "id": "72d0bc1f-4248-41c6-a0d0-8b27ff9c44ee",
   "metadata": {},
   "source": [
    "# Embed Maps in Jupyter Notebook"
   ]
  },
  {
   "cell_type": "markdown",
   "id": "5f8c6300-b3d7-4cda-a8af-208869a215aa",
   "metadata": {},
   "source": [
    "Jupyterlab supports embeding iframes."
   ]
  },
  {
   "cell_type": "markdown",
   "id": "ee79c2e2-abf9-4f5e-97bb-ef892010c4aa",
   "metadata": {},
   "source": [
    "## Google Maps"
   ]
  },
  {
   "cell_type": "code",
   "execution_count": 1,
   "id": "71be1242-2c60-4032-9a43-bc2700322da2",
   "metadata": {},
   "outputs": [
    {
     "data": {
      "text/html": [
       "<iframe src=\"https://www.google.com/maps/embed?pb=!1m18!1m12!1m3!1d15557.37447127425!2d77.4542278462903!3d12.88561249958381!2m3!1f0!2f0!3f0!3m2!1i1024!2i768!4f13.1!3m3!1m2!1s0x3bae38ae0945bccd%3A0x4ccd222f4477d495!2sGood%20Earth%20Malhar%20Ave%2C%20Kambipura%2C%20Bengaluru%2C%20Karnataka%20560060!5e0!3m2!1sen!2sin!4v1728305120081!5m2!1sen!2sin\" width=\"600\" height=\"450\" style=\"border:0;\" allowfullscreen=\"\" loading=\"lazy\" referrerpolicy=\"no-referrer-when-downgrade\"></iframe>\n"
      ],
      "text/plain": [
       "<IPython.core.display.HTML object>"
      ]
     },
     "metadata": {},
     "output_type": "display_data"
    }
   ],
   "source": [
    "%%html\n",
    "<iframe src=\"https://www.google.com/maps/embed?pb=!1m18!1m12!1m3!1d15557.37447127425!2d77.4542278462903!3d12.88561249958381!2m3!1f0!2f0!3f0!3m2!1i1024!2i768!4f13.1!3m3!1m2!1s0x3bae38ae0945bccd%3A0x4ccd222f4477d495!2sGood%20Earth%20Malhar%20Ave%2C%20Kambipura%2C%20Bengaluru%2C%20Karnataka%20560060!5e0!3m2!1sen!2sin!4v1728305120081!5m2!1sen!2sin\" width=\"600\" height=\"450\" style=\"border:0;\" allowfullscreen=\"\" loading=\"lazy\" referrerpolicy=\"no-referrer-when-downgrade\"></iframe>"
   ]
  },
  {
   "cell_type": "markdown",
   "id": "fbd59de9-bfd7-4767-98af-b26242c3d858",
   "metadata": {},
   "source": [
    "## Open Street Map"
   ]
  },
  {
   "cell_type": "code",
   "execution_count": 2,
   "id": "1d239956-f7d6-4906-828b-c33d309847cd",
   "metadata": {},
   "outputs": [
    {
     "data": {
      "text/html": [
       "\n",
       "<iframe width=\"425\" height=\"350\" src=\"https://www.openstreetmap.org/export/embed.html?bbox=77.44902133941652%2C12.874103650360817%2C77.47434139251709%2C12.892134549572601&amp;layer=mapnik&amp;marker=12.883119262195263%2C77.4616813659668\" style=\"border: 1px solid black\"></iframe><br/><small><a href=\"https://www.openstreetmap.org/?mlat=12.88312&amp;mlon=77.46168#map=16/12.88312/77.46168\">View Larger Map</a></small>\n"
      ],
      "text/plain": [
       "<IPython.core.display.HTML object>"
      ]
     },
     "metadata": {},
     "output_type": "display_data"
    }
   ],
   "source": [
    "%%html\n",
    "\n",
    "<iframe width=\"425\" height=\"350\" src=\"https://www.openstreetmap.org/export/embed.html?bbox=77.44902133941652%2C12.874103650360817%2C77.47434139251709%2C12.892134549572601&amp;layer=mapnik&amp;marker=12.883119262195263%2C77.4616813659668\" style=\"border: 1px solid black\"></iframe><br/><small><a href=\"https://www.openstreetmap.org/?mlat=12.88312&amp;mlon=77.46168#map=16/12.88312/77.46168\">View Larger Map</a></small>"
   ]
  },
  {
   "cell_type": "code",
   "execution_count": null,
   "id": "42c17eb2-26f6-4384-b950-10cbd6eba335",
   "metadata": {},
   "outputs": [],
   "source": []
  }
 ],
 "metadata": {
  "kernelspec": {
   "display_name": "Python 3 (ipykernel)",
   "language": "python",
   "name": "python3"
  },
  "language_info": {
   "codemirror_mode": {
    "name": "ipython",
    "version": 3
   },
   "file_extension": ".py",
   "mimetype": "text/x-python",
   "name": "python",
   "nbconvert_exporter": "python",
   "pygments_lexer": "ipython3",
   "version": "3.12.5"
  }
 },
 "nbformat": 4,
 "nbformat_minor": 5
}
